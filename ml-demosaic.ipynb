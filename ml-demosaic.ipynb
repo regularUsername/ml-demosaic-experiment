{
 "cells": [
  {
   "cell_type": "markdown",
   "metadata": {},
   "source": [
    "## Trainingsdaten vorbereiten\n",
    "Die Bilder werden zunächst auf 50% runterskaliert um mögliche Mängel des Demosaic Verfahrens der Kamera zu verstecken. Dann wird das Bild nachträglich in eine Form gebracht die einem Bayer Sensor entspricht vor dem Demosaic Verfahren."
   ]
  },
  {
   "cell_type": "code",
   "execution_count": 1,
   "metadata": {},
   "outputs": [],
   "source": [
    "import numpy as np\n",
    "import matplotlib.pyplot as plt"
   ]
  },
  {
   "cell_type": "code",
   "execution_count": 2,
   "metadata": {
    "scrolled": true
   },
   "outputs": [],
   "source": [
    "# filtermasken generator\n",
    "from math import ceil\n",
    "\n",
    "xtrans=\"\"\"gbggrg\n",
    "rgrbgb\n",
    "gbggrg\n",
    "grggbg\n",
    "bgbrgr\n",
    "grggbg\n",
    "\"\"\"\n",
    "bayer = \"\"\"bg\n",
    "gr\"\"\"\n",
    "\n",
    "def filtermask_from_str(w,h,pattern=bayer):\n",
    "    d = {\"r\":[1,0,0],\"g\":[0,1,0],\"b\":[0,0,1]}\n",
    "    a = np.array([[d[y] for y in x] for x in pattern.splitlines()]).astype(\"float32\")\n",
    "    (ph,pw,_) = a.shape\n",
    "    return np.tile(a,(ceil(h/ph),ceil(w/pw),1))[0:h,0:w]"
   ]
  },
  {
   "cell_type": "code",
   "execution_count": 3,
   "metadata": {},
   "outputs": [],
   "source": [
    "from pathlib import Path\n",
    "from PIL import Image\n",
    "import numpy as np\n",
    "from itertools import product\n",
    "\n",
    "tile_size=32\n",
    "\n",
    "train_a=[]\n",
    "train_b=[]\n",
    "\n",
    "for p in Path(\"./training_images\").iterdir():\n",
    "    if p.is_file():\n",
    "        # bilder laden und in numpy array umwandeln\n",
    "        im = Image.open(p).convert('RGB')\n",
    "        # bild runterskalieren um effekte vom ursprünglichen demosaic verfahren zu minimieren\n",
    "        im = im.resize((im.width//2,im.height//2),Image.LANCZOS)\n",
    "        \n",
    "        im_a = np.asarray(im,'float32')\n",
    "        im_a/=255\n",
    "        im_b= np.asarray(im,'float32')\n",
    "        im_b/=255\n",
    "        \n",
    "        # Bayer Pattern erzeugen\n",
    "        im_a*=filtermask_from_str(im.width,im.height)\n",
    "        \n",
    "        #Image.fromarray((im_a * 255).astype(\"uint8\")).show()\n",
    "        \n",
    "        #bild aufteilen \n",
    "        (h,w,_) = im_a.shape\n",
    "        (h,w) = (h//tile_size,w//tile_size)\n",
    "        \n",
    "        for x,y in product(range(w),range(h)):\n",
    "            tile_a = im_a[y*tile_size:(y+1)*tile_size, x*tile_size:(x+1)*tile_size,].copy()\n",
    "            train_a.append(tile_a)\n",
    "            tile_b = im_b[y*tile_size:(y+1)*tile_size, x*tile_size:(x+1)*tile_size,].copy()\n",
    "            train_b.append(tile_b)\n",
    "            \n",
    "        train_a = np.array(train_a)\n",
    "        train_b = np.array(train_b)\n",
    "        \n",
    "        "
   ]
  },
  {
   "cell_type": "markdown",
   "metadata": {},
   "source": [
    "### Mosaic zur Kontrolle anzeigen"
   ]
  },
  {
   "cell_type": "code",
   "execution_count": 4,
   "metadata": {},
   "outputs": [
    {
     "data": {
      "image/png": "[encoded data removed]",
      "text/plain": [
       "<Figure size 1152x2304 with 2 Axes>"
      ]
     },
     "metadata": {
      "needs_background": "light"
     },
     "output_type": "display_data"
    }
   ],
   "source": [
    "idx = 13\n",
    "\n",
    "plt.figure(figsize=(16,16*2))\n",
    "plt.subplot(1,2,1)\n",
    "plt.imshow(train_a[idx],interpolation=\"nearest\")\n",
    "plt.text(16,-2,\"Bayer Pattern\",fontsize=20,horizontalalignment='center')\n",
    "plt.subplot(1,2,2)\n",
    "plt.imshow(train_b[idx],interpolation=\"nearest\")\n",
    "plt.text(16,-2,\"RGB Image\",fontsize=20,horizontalalignment='center')\n",
    "\n",
    "plt.show()"
   ]
  },
  {
   "cell_type": "markdown",
   "metadata": {},
   "source": [
    "## Modell erstellen"
   ]
  },
  {
   "cell_type": "code",
   "execution_count": 5,
   "metadata": {},
   "outputs": [
    {
     "name": "stderr",
     "output_type": "stream",
     "text": [
      "Using TensorFlow backend.\n"
     ]
    }
   ],
   "source": [
    "import keras\n",
    "from keras.layers import Conv2D,Conv2DTranspose\n",
    "from keras.models import Sequential\n",
    "from keras.callbacks import EarlyStopping"
   ]
  },
  {
   "cell_type": "markdown",
   "metadata": {},
   "source": [
    "### Tensorflow soll sich nur den Speicher holen den es braucht anstatt sich alles unter den Nagel zu reißen\n",
    "([Code aus Tensorflow Guide](https://www.tensorflow.org/guide/gpu#limiting_gpu_memory_growth))"
   ]
  },
  {
   "cell_type": "code",
   "execution_count": 6,
   "metadata": {
    "scrolled": true
   },
   "outputs": [],
   "source": [
    "from keras import backend as K\n",
    "\n",
    "if K.backend() == 'tensorflow':\n",
    "    import tensorflow as tf\n",
    "    gpus = tf.config.experimental.list_physical_devices('GPU')\n",
    "    if gpus:\n",
    "      try:\n",
    "        # Currently, memory growth needs to be the same across GPUs\n",
    "        for gpu in gpus:\n",
    "          tf.config.experimental.set_memory_growth(gpu, True)\n",
    "        logical_gpus = tf.config.experimental.list_logical_devices('GPU')\n",
    "        print(len(gpus), \"Physical GPUs,\", len(logical_gpus), \"Logical GPUs\")\n",
    "      except RuntimeError as e:\n",
    "        # Memory growth must be set before GPUs have been initialized\n",
    "        print(e)"
   ]
  },
  {
   "cell_type": "markdown",
   "metadata": {},
   "source": [
    " Hatte PSNRLoss in einem anderem Projekt benutzt und war besser als die builtin metrics"
   ]
  },
  {
   "cell_type": "code",
   "execution_count": 7,
   "metadata": {},
   "outputs": [],
   "source": [
    "def PSNRLoss(y_true, y_pred):\n",
    "    \"\"\"\n",
    "    PSNR is Peek Signal to Noise Ratio, which is similar to mean squared error.\n",
    "    It can be calculated as\n",
    "    PSNR = 20 * log10(MAXp) - 10 * log10(MSE)\n",
    "    When providing an unscaled input, MAXp = 255. Therefore 20 * log10(255)== 48.1308036087.\n",
    "    However, since we are scaling our input, MAXp = 1. Therefore 20 * log10(1) = 0.\n",
    "    Thus we remove that component completely and only compute the remaining MSE component.\n",
    "    \"\"\"\n",
    "    return -10. * K.log(K.mean(K.square(y_pred - y_true))) / K.log(10.)"
   ]
  },
  {
   "cell_type": "markdown",
   "metadata": {},
   "source": [
    "Vorerst nur ein sehr einfacher Autoencoder"
   ]
  },
  {
   "cell_type": "code",
   "execution_count": 8,
   "metadata": {},
   "outputs": [
    {
     "name": "stdout",
     "output_type": "stream",
     "text": [
      "Model: \"sequential_1\"\n",
      "_________________________________________________________________\n",
      "Layer (type)                 Output Shape              Param #   \n",
      "=================================================================\n",
      "conv2d_1 (Conv2D)            (None, 16, 16, 64)        1792      \n",
      "_________________________________________________________________\n",
      "conv2d_transpose_1 (Conv2DTr (None, 32, 32, 64)        36928     \n",
      "_________________________________________________________________\n",
      "conv2d_transpose_2 (Conv2DTr (None, 32, 32, 3)         4803      \n",
      "=================================================================\n",
      "Total params: 43,523\n",
      "Trainable params: 43,523\n",
      "Non-trainable params: 0\n",
      "_________________________________________________________________\n"
     ]
    }
   ],
   "source": [
    "model = Sequential()\n",
    "model.add(Conv2D(64,(3,3), activation='relu', strides=(2, 2),padding='same',input_shape=(tile_size,tile_size,3)))\n",
    "model.add(Conv2DTranspose(64,(3,3),activation='relu', strides=(2, 2), padding='same'))\n",
    "model.add(Conv2DTranspose(3,(5,5),activation='linear',padding='same'))\n",
    "\n",
    "model.compile(loss=keras.losses.mean_squared_error,\n",
    "             optimizer=keras.optimizers.Adam(),\n",
    "             metrics=[PSNRLoss])\n",
    "\n",
    "model.summary()"
   ]
  },
  {
   "cell_type": "code",
   "execution_count": 9,
   "metadata": {},
   "outputs": [
    {
     "name": "stdout",
     "output_type": "stream",
     "text": [
      "Epoch 1/200\n",
      " - 1s - loss: 0.1406 - PSNRLoss: 9.7329\n",
      "Epoch 2/200\n",
      " - 1s - loss: 0.0405 - PSNRLoss: 13.9963\n",
      "Epoch 3/200\n",
      " - 1s - loss: 0.0287 - PSNRLoss: 15.4628\n",
      "Epoch 4/200\n",
      " - 1s - loss: 0.0195 - PSNRLoss: 17.1182\n",
      "Epoch 5/200\n",
      " - 1s - loss: 0.0134 - PSNRLoss: 18.7404\n",
      "Epoch 6/200\n",
      " - 1s - loss: 0.0090 - PSNRLoss: 20.4668\n",
      "Epoch 7/200\n",
      " - 1s - loss: 0.0069 - PSNRLoss: 21.6571\n",
      "Epoch 8/200\n",
      " - 1s - loss: 0.0059 - PSNRLoss: 22.3222\n",
      "Epoch 9/200\n",
      " - 1s - loss: 0.0052 - PSNRLoss: 22.8701\n",
      "Epoch 10/200\n",
      " - 1s - loss: 0.0046 - PSNRLoss: 23.4252\n",
      "Epoch 11/200\n",
      " - 1s - loss: 0.0040 - PSNRLoss: 23.9616\n",
      "Epoch 12/200\n",
      " - 1s - loss: 0.0036 - PSNRLoss: 24.4621\n",
      "Epoch 13/200\n",
      " - 1s - loss: 0.0032 - PSNRLoss: 24.9717\n",
      "Epoch 14/200\n",
      " - 1s - loss: 0.0029 - PSNRLoss: 25.4205\n",
      "Epoch 15/200\n",
      " - 1s - loss: 0.0026 - PSNRLoss: 25.8387\n",
      "Epoch 16/200\n",
      " - 1s - loss: 0.0024 - PSNRLoss: 26.1914\n",
      "Epoch 17/200\n",
      " - 1s - loss: 0.0023 - PSNRLoss: 26.4557\n",
      "Epoch 18/200\n",
      " - 1s - loss: 0.0021 - PSNRLoss: 26.7151\n",
      "Epoch 19/200\n",
      " - 1s - loss: 0.0020 - PSNRLoss: 26.9117\n",
      "Epoch 20/200\n",
      " - 1s - loss: 0.0020 - PSNRLoss: 27.1092\n",
      "Epoch 21/200\n",
      " - 1s - loss: 0.0019 - PSNRLoss: 27.2656\n",
      "Epoch 22/200\n",
      " - 1s - loss: 0.0018 - PSNRLoss: 27.4153\n",
      "Epoch 23/200\n",
      " - 1s - loss: 0.0017 - PSNRLoss: 27.6090\n",
      "Epoch 24/200\n",
      " - 1s - loss: 0.0017 - PSNRLoss: 27.7814\n",
      "Epoch 25/200\n",
      " - 1s - loss: 0.0016 - PSNRLoss: 27.9559\n",
      "Epoch 26/200\n",
      " - 1s - loss: 0.0016 - PSNRLoss: 28.1170\n",
      "Epoch 27/200\n",
      " - 1s - loss: 0.0015 - PSNRLoss: 28.2568\n",
      "Epoch 28/200\n",
      " - 1s - loss: 0.0015 - PSNRLoss: 28.3960\n",
      "Epoch 29/200\n",
      " - 1s - loss: 0.0014 - PSNRLoss: 28.5107\n",
      "Epoch 30/200\n",
      " - 1s - loss: 0.0014 - PSNRLoss: 28.5246\n",
      "Epoch 31/200\n",
      " - 1s - loss: 0.0014 - PSNRLoss: 28.6533\n",
      "Epoch 32/200\n",
      " - 1s - loss: 0.0013 - PSNRLoss: 28.7821\n",
      "Epoch 33/200\n",
      " - 1s - loss: 0.0013 - PSNRLoss: 28.8790\n",
      "Epoch 34/200\n",
      " - 1s - loss: 0.0013 - PSNRLoss: 28.9311\n",
      "Epoch 35/200\n",
      " - 1s - loss: 0.0013 - PSNRLoss: 28.9672\n",
      "Epoch 36/200\n",
      " - 1s - loss: 0.0012 - PSNRLoss: 29.0750\n",
      "Epoch 37/200\n",
      " - 1s - loss: 0.0012 - PSNRLoss: 29.1171\n",
      "Epoch 38/200\n",
      " - 1s - loss: 0.0012 - PSNRLoss: 29.1700\n",
      "Epoch 39/200\n",
      " - 1s - loss: 0.0012 - PSNRLoss: 29.2165\n",
      "Epoch 40/200\n",
      " - 1s - loss: 0.0012 - PSNRLoss: 29.1671\n",
      "Epoch 41/200\n",
      " - 1s - loss: 0.0012 - PSNRLoss: 29.2325\n",
      "Epoch 42/200\n",
      " - 1s - loss: 0.0012 - PSNRLoss: 29.2923\n",
      "Epoch 43/200\n",
      " - 1s - loss: 0.0012 - PSNRLoss: 29.2968\n",
      "Epoch 44/200\n",
      " - 1s - loss: 0.0012 - PSNRLoss: 29.2943\n",
      "Epoch 45/200\n",
      " - 1s - loss: 0.0012 - PSNRLoss: 29.3981\n",
      "Epoch 46/200\n",
      " - 1s - loss: 0.0011 - PSNRLoss: 29.4115\n",
      "Epoch 47/200\n",
      " - 1s - loss: 0.0011 - PSNRLoss: 29.4939\n",
      "Epoch 48/200\n",
      " - 1s - loss: 0.0011 - PSNRLoss: 29.5337\n",
      "Epoch 49/200\n",
      " - 1s - loss: 0.0011 - PSNRLoss: 29.5622\n",
      "Epoch 50/200\n",
      " - 1s - loss: 0.0011 - PSNRLoss: 29.5848\n",
      "Epoch 51/200\n",
      " - 1s - loss: 0.0011 - PSNRLoss: 29.5937\n",
      "Epoch 52/200\n",
      " - 1s - loss: 0.0011 - PSNRLoss: 29.5878\n",
      "Epoch 53/200\n",
      " - 1s - loss: 0.0011 - PSNRLoss: 29.6209\n",
      "Epoch 54/200\n",
      " - 1s - loss: 0.0011 - PSNRLoss: 29.6757\n",
      "Epoch 55/200\n",
      " - 1s - loss: 0.0011 - PSNRLoss: 29.7086\n",
      "Epoch 56/200\n",
      " - 1s - loss: 0.0011 - PSNRLoss: 29.6866\n",
      "Epoch 57/200\n",
      " - 1s - loss: 0.0011 - PSNRLoss: 29.6728\n",
      "Epoch 58/200\n",
      " - 1s - loss: 0.0011 - PSNRLoss: 29.6850\n",
      "Epoch 59/200\n",
      " - 1s - loss: 0.0011 - PSNRLoss: 29.7435\n",
      "Epoch 60/200\n",
      " - 1s - loss: 0.0011 - PSNRLoss: 29.7726\n",
      "Epoch 61/200\n",
      " - 1s - loss: 0.0011 - PSNRLoss: 29.7842\n",
      "Epoch 62/200\n",
      " - 1s - loss: 0.0011 - PSNRLoss: 29.7981\n",
      "Epoch 63/200\n",
      " - 1s - loss: 0.0011 - PSNRLoss: 29.7549\n",
      "Epoch 64/200\n",
      " - 1s - loss: 0.0011 - PSNRLoss: 29.7189\n",
      "Epoch 65/200\n",
      " - 1s - loss: 0.0011 - PSNRLoss: 29.7111\n",
      "Epoch 66/200\n",
      " - 1s - loss: 0.0010 - PSNRLoss: 29.8271\n",
      "Epoch 67/200\n",
      " - 1s - loss: 0.0010 - PSNRLoss: 29.8673\n",
      "Epoch 68/200\n",
      " - 1s - loss: 0.0010 - PSNRLoss: 29.8549\n",
      "Epoch 69/200\n",
      " - 1s - loss: 0.0010 - PSNRLoss: 29.8764\n",
      "Epoch 70/200\n",
      " - 1s - loss: 0.0010 - PSNRLoss: 29.8899\n",
      "Epoch 71/200\n",
      " - 1s - loss: 0.0011 - PSNRLoss: 29.7791\n",
      "Epoch 72/200\n",
      " - 1s - loss: 0.0011 - PSNRLoss: 29.7601\n",
      "Epoch 73/200\n",
      " - 1s - loss: 0.0010 - PSNRLoss: 29.9063\n",
      "Epoch 74/200\n",
      " - 1s - loss: 0.0010 - PSNRLoss: 29.9408\n",
      "Epoch 75/200\n",
      " - 1s - loss: 0.0010 - PSNRLoss: 29.9634\n",
      "Epoch 76/200\n",
      " - 1s - loss: 0.0010 - PSNRLoss: 29.8612\n",
      "Epoch 77/200\n",
      " - 1s - loss: 0.0011 - PSNRLoss: 29.6573\n",
      "Epoch 78/200\n",
      " - 1s - loss: 0.0011 - PSNRLoss: 29.7106\n",
      "Epoch 79/200\n",
      " - 1s - loss: 0.0010 - PSNRLoss: 29.8238\n",
      "Epoch 80/200\n",
      " - 1s - loss: 0.0010 - PSNRLoss: 29.9638\n",
      "Epoch 81/200\n",
      " - 1s - loss: 0.0010 - PSNRLoss: 30.0183\n",
      "Epoch 82/200\n",
      " - 1s - loss: 9.9806e-04 - PSNRLoss: 30.0443\n",
      "Epoch 83/200\n",
      " - 1s - loss: 0.0010 - PSNRLoss: 30.0122\n",
      "Epoch 84/200\n",
      " - 1s - loss: 0.0010 - PSNRLoss: 30.0114\n",
      "Epoch 85/200\n",
      " - 1s - loss: 0.0010 - PSNRLoss: 30.0104\n",
      "Epoch 86/200\n",
      " - 1s - loss: 0.0010 - PSNRLoss: 29.9950\n",
      "Epoch 87/200\n",
      " - 1s - loss: 9.9337e-04 - PSNRLoss: 30.0454\n",
      "Epoch 88/200\n",
      " - 1s - loss: 0.0010 - PSNRLoss: 29.9920\n",
      "Epoch 89/200\n",
      " - 1s - loss: 9.9908e-04 - PSNRLoss: 30.0127\n",
      "Epoch 90/200\n",
      " - 1s - loss: 9.8737e-04 - PSNRLoss: 30.0702\n",
      "Epoch 91/200\n",
      " - 1s - loss: 9.9047e-04 - PSNRLoss: 30.0532\n",
      "Epoch 92/200\n",
      " - 1s - loss: 9.9468e-04 - PSNRLoss: 30.0458\n",
      "Epoch 93/200\n",
      " - 1s - loss: 0.0010 - PSNRLoss: 29.9595\n",
      "Epoch 94/200\n",
      " - 1s - loss: 9.8756e-04 - PSNRLoss: 30.0729\n",
      "Epoch 95/200\n",
      " - 1s - loss: 9.9307e-04 - PSNRLoss: 30.0554\n",
      "Wall time: 1min 10s\n"
     ]
    }
   ],
   "source": [
    "%%time\n",
    "\n",
    "early_stopping = EarlyStopping(monitor='loss', patience=5)\n",
    "hist =  model.fit(train_a, train_b,\n",
    "                    batch_size=32,\n",
    "                    epochs=200,\n",
    "                    shuffle=True,\n",
    "                    callbacks=[early_stopping],\n",
    "                    verbose=2)"
   ]
  },
  {
   "cell_type": "code",
   "execution_count": 10,
   "metadata": {},
   "outputs": [
    {
     "data": {
      "image/png": "[encoded data removed]",
      "text/plain": [
       "<Figure size 1152x432 with 2 Axes>"
      ]
     },
     "metadata": {
      "needs_background": "light"
     },
     "output_type": "display_data"
    },
    {
     "name": "stdout",
     "output_type": "stream",
     "text": [
      "maximum PSNRLoss: 30.0729\n",
      "minimum loss: 0.000987\n"
     ]
    }
   ],
   "source": [
    "import helper\n",
    "helper.plot_model(hist,size=(16,6))\n",
    "\n",
    "x = max(hist.history['PSNRLoss'])\n",
    "print(f\"maximum PSNRLoss: {x:.4f}\")\n",
    "x = min(hist.history['loss'])\n",
    "print(f\"minimum loss: {x:f}\")"
   ]
  },
  {
   "cell_type": "markdown",
   "metadata": {},
   "source": [
    "## Testlauf"
   ]
  },
  {
   "cell_type": "code",
   "execution_count": 11,
   "metadata": {},
   "outputs": [
    {
     "data": {
      "image/png": "[encoded data removed]",
      "text/plain": [
       "<Figure size 1152x3456 with 3 Axes>"
      ]
     },
     "metadata": {
      "needs_background": "light"
     },
     "output_type": "display_data"
    }
   ],
   "source": [
    "plt.figure(figsize=(16,16*3))\n",
    "\n",
    "i = 15\n",
    "\n",
    "plt.subplot(1,3,1)\n",
    "plt.imshow(train_a[i],interpolation=\"nearest\")\n",
    "plt.text(16,-2,\"Bayer Pattern\",fontsize=20,horizontalalignment='center')\n",
    "\n",
    "plt.subplot(1,3,2)\n",
    "plt.imshow(train_b[i],interpolation=\"nearest\")\n",
    "plt.text(16,-2,\"Original\",fontsize=20,horizontalalignment='center')\n",
    "\n",
    "\n",
    "plt.subplot(1,3,3)\n",
    "decoded = model.predict(train_a[i:i+1])\n",
    "decoded = np.clip(decoded,0,1)\n",
    "plt.imshow(decoded[0])\n",
    "plt.text(16,-2,\"ML-Demosaic\",fontsize=20,horizontalalignment='center')\n",
    "\n",
    "plt.show()"
   ]
  },
  {
   "cell_type": "code",
   "execution_count": null,
   "metadata": {},
   "outputs": [],
   "source": []
  }
 ],
 "metadata": {
  "kernelspec": {
   "display_name": "Python 3",
   "language": "python",
   "name": "python3"
  },
  "language_info": {
   "codemirror_mode": {
    "name": "ipython",
    "version": 3
   },
   "file_extension": ".py",
   "mimetype": "text/x-python",
   "name": "python",
   "nbconvert_exporter": "python",
   "pygments_lexer": "ipython3",
   "version": "3.7.4"
  }
 },
 "nbformat": 4,
 "nbformat_minor": 4
}
