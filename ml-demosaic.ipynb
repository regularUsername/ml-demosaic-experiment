{
 "cells": [
  {
   "cell_type": "markdown",
   "metadata": {},
   "source": [
    "## Trainingsdaten vorbereiten\n",
    "Die Bilder werden zunächst auf 50% runterskaliert um mögliche Mängel des Demosaic Verfahrens der Kamera zu verstecken. Dann wird das Bild nachträglich in eine Form gebracht die einem Bayer Sensor entspricht vor dem Demosaic Verfahren."
   ]
  },
  {
   "cell_type": "code",
   "execution_count": 1,
   "metadata": {},
   "outputs": [],
   "source": [
    "import numpy as np\n",
    "import matplotlib.pyplot as plt"
   ]
  },
  {
   "cell_type": "code",
   "execution_count": 2,
   "metadata": {
    "scrolled": true
   },
   "outputs": [],
   "source": [
    "# filtermasken generator\n",
    "from math import ceil\n",
    "\n",
    "xtrans=\"\"\"gbggrg\n",
    "rgrbgb\n",
    "gbggrg\n",
    "grggbg\n",
    "bgbrgr\n",
    "grggbg\n",
    "\"\"\"\n",
    "bayer = \"\"\"bg\n",
    "gr\"\"\"\n",
    "\n",
    "def filtermask_from_str(w,h,pattern=bayer):\n",
    "    d = {\"r\":[1,0,0],\"g\":[0,1,0],\"b\":[0,0,1]}\n",
    "    a = np.array([[d[y] for y in x] for x in pattern.splitlines()]).astype(\"float32\")\n",
    "    (ph,pw,_) = a.shape\n",
    "    return np.tile(a,(ceil(h/ph),ceil(w/pw),1))[0:h,0:w]"
   ]
  },
  {
   "cell_type": "code",
   "execution_count": 3,
   "metadata": {},
   "outputs": [],
   "source": [
    "from pathlib import Path\n",
    "from PIL import Image\n",
    "import numpy as np\n",
    "from itertools import product\n",
    "\n",
    "tile_size=32\n",
    "\n",
    "train_a=[]\n",
    "train_b=[]\n",
    "\n",
    "for p in Path(\"./training_images\").iterdir():\n",
    "    if p.is_file():\n",
    "        # bilder laden und in numpy array umwandeln\n",
    "        im = Image.open(p).convert('RGB')\n",
    "        # bild runterskalieren um effekte vom ursprünglichen demosaic verfahren zu minimieren\n",
    "        im = im.resize((im.width//2,im.height//2),Image.LANCZOS)\n",
    "        \n",
    "        im_a = np.asarray(im,'float32')\n",
    "        im_a/=255\n",
    "        im_b= np.asarray(im,'float32')\n",
    "        im_b/=255\n",
    "        \n",
    "        # Bayer Pattern erzeugen\n",
    "        im_a*=filtermask_from_str(im.width,im.height)\n",
    "        \n",
    "        #Image.fromarray((im_a * 255).astype(\"uint8\")).show()\n",
    "        \n",
    "        #bild aufteilen \n",
    "        (h,w,_) = im_a.shape\n",
    "        (h,w) = (h//tile_size,w//tile_size)\n",
    "        \n",
    "        for x,y in product(range(w),range(h)):\n",
    "            tile_a = im_a[y*tile_size:(y+1)*tile_size, x*tile_size:(x+1)*tile_size,].copy()\n",
    "            train_a.append(tile_a)\n",
    "            tile_b = im_b[y*tile_size:(y+1)*tile_size, x*tile_size:(x+1)*tile_size,].copy()\n",
    "            train_b.append(tile_b)\n",
    "            \n",
    "train_a = np.array(train_a)\n",
    "train_b = np.array(train_b)\n",
    "        \n",
    "        "
   ]
  },
  {
   "cell_type": "markdown",
   "metadata": {},
   "source": [
    "### Mosaic zur Kontrolle anzeigen"
   ]
  },
  {
   "cell_type": "code",
   "execution_count": 4,
   "metadata": {},
   "outputs": [
    {
     "data": {
      "image/png": "[encoded data removed]",
      "text/plain": [
       "<Figure size 1152x2304 with 2 Axes>"
      ]
     },
     "metadata": {
      "needs_background": "light"
     },
     "output_type": "display_data"
    }
   ],
   "source": [
    "idx = 13\n",
    "\n",
    "plt.figure(figsize=(16,16*2))\n",
    "plt.subplot(1,2,1)\n",
    "plt.imshow(train_a[idx],interpolation=\"nearest\")\n",
    "plt.text(16,-2,\"Bayer Pattern\",fontsize=20,horizontalalignment='center')\n",
    "plt.subplot(1,2,2)\n",
    "plt.imshow(train_b[idx],interpolation=\"nearest\")\n",
    "plt.text(16,-2,\"RGB Image\",fontsize=20,horizontalalignment='center')\n",
    "\n",
    "plt.show()"
   ]
  },
  {
   "cell_type": "markdown",
   "metadata": {},
   "source": [
    "## Modell erstellen"
   ]
  },
  {
   "cell_type": "code",
   "execution_count": 5,
   "metadata": {},
   "outputs": [
    {
     "name": "stderr",
     "output_type": "stream",
     "text": [
      "Using TensorFlow backend.\n"
     ]
    }
   ],
   "source": [
    "import keras\n",
    "from keras.layers import Conv2D,Conv2DTranspose\n",
    "from keras.models import Sequential\n",
    "from keras.callbacks import EarlyStopping"
   ]
  },
  {
   "cell_type": "markdown",
   "metadata": {},
   "source": [
    "### Tensorflow soll sich nur den Speicher holen den es braucht anstatt sich alles unter den Nagel zu reißen\n",
    "([Code aus Tensorflow Guide](https://www.tensorflow.org/guide/gpu#limiting_gpu_memory_growth))"
   ]
  },
  {
   "cell_type": "code",
   "execution_count": 6,
   "metadata": {
    "scrolled": true
   },
   "outputs": [
    {
     "name": "stdout",
     "output_type": "stream",
     "text": [
      "1 Physical GPUs, 1 Logical GPUs\n"
     ]
    }
   ],
   "source": [
    "from keras import backend as K\n",
    "\n",
    "if K.backend() == 'tensorflow':\n",
    "    import tensorflow as tf\n",
    "    gpus = tf.config.experimental.list_physical_devices('GPU')\n",
    "    if gpus:\n",
    "      try:\n",
    "        # Currently, memory growth needs to be the same across GPUs\n",
    "        for gpu in gpus:\n",
    "          tf.config.experimental.set_memory_growth(gpu, True)\n",
    "        logical_gpus = tf.config.experimental.list_logical_devices('GPU')\n",
    "        print(len(gpus), \"Physical GPUs,\", len(logical_gpus), \"Logical GPUs\")\n",
    "      except RuntimeError as e:\n",
    "        # Memory growth must be set before GPUs have been initialized\n",
    "        print(e)"
   ]
  },
  {
   "cell_type": "markdown",
   "metadata": {},
   "source": [
    " Hatte PSNRLoss in einem anderem Projekt benutzt und war besser als die builtin metrics"
   ]
  },
  {
   "cell_type": "code",
   "execution_count": 7,
   "metadata": {},
   "outputs": [],
   "source": [
    "def PSNRLoss(y_true, y_pred):\n",
    "    \"\"\"\n",
    "    PSNR is Peek Signal to Noise Ratio, which is similar to mean squared error.\n",
    "    It can be calculated as\n",
    "    PSNR = 20 * log10(MAXp) - 10 * log10(MSE)\n",
    "    When providing an unscaled input, MAXp = 255. Therefore 20 * log10(255)== 48.1308036087.\n",
    "    However, since we are scaling our input, MAXp = 1. Therefore 20 * log10(1) = 0.\n",
    "    Thus we remove that component completely and only compute the remaining MSE component.\n",
    "    \"\"\"\n",
    "    return -10. * K.log(K.mean(K.square(y_pred - y_true))) / K.log(10.)"
   ]
  },
  {
   "cell_type": "markdown",
   "metadata": {},
   "source": [
    "Vorerst nur ein sehr einfacher Autoencoder"
   ]
  },
  {
   "cell_type": "code",
   "execution_count": 8,
   "metadata": {},
   "outputs": [
    {
     "name": "stdout",
     "output_type": "stream",
     "text": [
      "Model: \"sequential_1\"\n",
      "_________________________________________________________________\n",
      "Layer (type)                 Output Shape              Param #   \n",
      "=================================================================\n",
      "conv2d_1 (Conv2D)            (None, 16, 16, 64)        1792      \n",
      "_________________________________________________________________\n",
      "conv2d_transpose_1 (Conv2DTr (None, 32, 32, 64)        36928     \n",
      "_________________________________________________________________\n",
      "conv2d_transpose_2 (Conv2DTr (None, 32, 32, 3)         4803      \n",
      "=================================================================\n",
      "Total params: 43,523\n",
      "Trainable params: 43,523\n",
      "Non-trainable params: 0\n",
      "_________________________________________________________________\n"
     ]
    }
   ],
   "source": [
    "model = Sequential()\n",
    "model.add(Conv2D(64,(3,3), activation='relu', strides=(2, 2),padding='same',input_shape=(tile_size,tile_size,3)))\n",
    "model.add(Conv2DTranspose(64,(3,3),activation='relu', strides=(2, 2), padding='same'))\n",
    "model.add(Conv2DTranspose(3,(5,5),activation='linear',padding='same'))\n",
    "\n",
    "model.compile(loss=keras.losses.mean_squared_error,\n",
    "             optimizer=keras.optimizers.Adam(),\n",
    "             metrics=[PSNRLoss])\n",
    "\n",
    "model.summary()"
   ]
  },
  {
   "cell_type": "code",
   "execution_count": 9,
   "metadata": {},
   "outputs": [
    {
     "name": "stdout",
     "output_type": "stream",
     "text": [
      "Epoch 1/200\n",
      " - 7s - loss: 0.0028 - PSNRLoss: 32.0013\n",
      "Epoch 2/200\n",
      " - 5s - loss: 2.5281e-04 - PSNRLoss: 36.2212\n",
      "Epoch 3/200\n",
      " - 5s - loss: 2.1792e-04 - PSNRLoss: 36.9017\n",
      "Epoch 4/200\n",
      " - 5s - loss: 1.9911e-04 - PSNRLoss: 37.3087\n",
      "Epoch 5/200\n",
      " - 5s - loss: 2.7190e-04 - PSNRLoss: 37.1635\n",
      "Epoch 6/200\n",
      " - 5s - loss: 1.6171e-04 - PSNRLoss: 38.1212\n",
      "Epoch 7/200\n",
      " - 5s - loss: 1.7528e-04 - PSNRLoss: 37.9539\n",
      "Epoch 8/200\n",
      " - 5s - loss: 1.6172e-04 - PSNRLoss: 38.2754\n",
      "Epoch 9/200\n",
      " - 5s - loss: 1.5142e-04 - PSNRLoss: 38.4124\n",
      "Epoch 10/200\n",
      " - 5s - loss: 1.4673e-04 - PSNRLoss: 38.5450\n",
      "Epoch 11/200\n",
      " - 5s - loss: 1.5107e-04 - PSNRLoss: 38.5682\n",
      "Epoch 12/200\n",
      " - 5s - loss: 1.3546e-04 - PSNRLoss: 38.9080\n",
      "Epoch 13/200\n",
      " - 5s - loss: 1.3515e-04 - PSNRLoss: 39.0362\n",
      "Epoch 14/200\n",
      " - 5s - loss: 1.3146e-04 - PSNRLoss: 39.0380\n",
      "Epoch 15/200\n",
      " - 5s - loss: 1.2696e-04 - PSNRLoss: 39.1660\n",
      "Epoch 16/200\n",
      " - 5s - loss: 1.2581e-04 - PSNRLoss: 39.2446\n",
      "Epoch 17/200\n",
      " - 5s - loss: 1.2187e-04 - PSNRLoss: 39.4509\n",
      "Epoch 18/200\n",
      " - 5s - loss: 1.2305e-04 - PSNRLoss: 39.3591\n",
      "Epoch 19/200\n",
      " - 5s - loss: 1.2005e-04 - PSNRLoss: 39.4886\n",
      "Epoch 20/200\n",
      " - 5s - loss: 1.1484e-04 - PSNRLoss: 39.6122\n",
      "Epoch 21/200\n",
      " - 5s - loss: 1.2870e-04 - PSNRLoss: 39.3569\n",
      "Epoch 22/200\n",
      " - 5s - loss: 1.0596e-04 - PSNRLoss: 39.9449\n",
      "Epoch 23/200\n",
      " - 5s - loss: 1.1366e-04 - PSNRLoss: 39.6892\n",
      "Epoch 24/200\n",
      " - 5s - loss: 1.0956e-04 - PSNRLoss: 39.8265\n",
      "Epoch 25/200\n",
      " - 5s - loss: 1.0927e-04 - PSNRLoss: 39.8902\n",
      "Epoch 26/200\n",
      " - 5s - loss: 1.1781e-04 - PSNRLoss: 39.6752\n",
      "Epoch 27/200\n",
      " - 5s - loss: 1.0095e-04 - PSNRLoss: 40.1676\n",
      "Epoch 28/200\n",
      " - 5s - loss: 1.0660e-04 - PSNRLoss: 39.9247\n",
      "Epoch 29/200\n",
      " - 5s - loss: 1.0661e-04 - PSNRLoss: 39.9540\n",
      "Epoch 30/200\n",
      " - 5s - loss: 1.0741e-04 - PSNRLoss: 39.9976\n",
      "Epoch 31/200\n",
      " - 5s - loss: 1.0074e-04 - PSNRLoss: 40.1759\n",
      "Epoch 32/200\n",
      " - 5s - loss: 1.0244e-04 - PSNRLoss: 40.1044\n",
      "Epoch 33/200\n",
      " - 5s - loss: 1.0145e-04 - PSNRLoss: 40.1377\n",
      "Epoch 34/200\n",
      " - 5s - loss: 1.0310e-04 - PSNRLoss: 40.1358\n",
      "Epoch 35/200\n",
      " - 5s - loss: 1.0775e-04 - PSNRLoss: 40.0979\n",
      "Epoch 36/200\n",
      " - 5s - loss: 9.6653e-05 - PSNRLoss: 40.3506\n",
      "Epoch 37/200\n",
      " - 5s - loss: 9.9869e-05 - PSNRLoss: 40.2467\n",
      "Epoch 38/200\n",
      " - 5s - loss: 1.0039e-04 - PSNRLoss: 40.2458\n",
      "Epoch 39/200\n",
      " - 5s - loss: 9.9613e-05 - PSNRLoss: 40.2635\n",
      "Epoch 40/200\n",
      " - 5s - loss: 9.5691e-05 - PSNRLoss: 40.3877\n",
      "Epoch 41/200\n",
      " - 5s - loss: 9.8284e-05 - PSNRLoss: 40.3027\n",
      "Epoch 42/200\n",
      " - 5s - loss: 9.9303e-05 - PSNRLoss: 40.3295\n",
      "Epoch 43/200\n",
      " - 5s - loss: 9.5073e-05 - PSNRLoss: 40.4200\n",
      "Epoch 44/200\n",
      " - 5s - loss: 9.6169e-05 - PSNRLoss: 40.3910\n",
      "Epoch 45/200\n",
      " - 5s - loss: 9.6876e-05 - PSNRLoss: 40.3717\n",
      "Epoch 46/200\n",
      " - 5s - loss: 9.4330e-05 - PSNRLoss: 40.4656\n",
      "Epoch 47/200\n",
      " - 5s - loss: 9.6994e-05 - PSNRLoss: 40.3688\n",
      "Epoch 48/200\n",
      " - 6s - loss: 9.5571e-05 - PSNRLoss: 40.4176\n",
      "Epoch 49/200\n",
      " - 5s - loss: 9.4049e-05 - PSNRLoss: 40.4847\n",
      "Epoch 50/200\n",
      " - 5s - loss: 9.4753e-05 - PSNRLoss: 40.4700\n",
      "Epoch 51/200\n",
      " - 5s - loss: 9.2301e-05 - PSNRLoss: 40.5627\n",
      "Epoch 52/200\n",
      " - 5s - loss: 9.3556e-05 - PSNRLoss: 40.5058\n",
      "Epoch 53/200\n",
      " - 5s - loss: 9.2658e-05 - PSNRLoss: 40.5385\n",
      "Epoch 54/200\n",
      " - 5s - loss: 9.4957e-05 - PSNRLoss: 40.4399\n",
      "Epoch 55/200\n",
      " - 5s - loss: 9.2251e-05 - PSNRLoss: 40.5793\n",
      "Epoch 56/200\n",
      " - 5s - loss: 9.1001e-05 - PSNRLoss: 40.6270\n",
      "Epoch 57/200\n",
      " - 5s - loss: 9.2294e-05 - PSNRLoss: 40.5637\n",
      "Epoch 58/200\n",
      " - 5s - loss: 9.0878e-05 - PSNRLoss: 40.6182\n",
      "Epoch 59/200\n",
      " - 5s - loss: 9.1536e-05 - PSNRLoss: 40.5969\n",
      "Epoch 60/200\n",
      " - 5s - loss: 9.0570e-05 - PSNRLoss: 40.6360\n",
      "Epoch 61/200\n",
      " - 5s - loss: 9.2881e-05 - PSNRLoss: 40.5426\n",
      "Epoch 62/200\n",
      " - 5s - loss: 8.9494e-05 - PSNRLoss: 40.6920\n",
      "Epoch 63/200\n",
      " - 5s - loss: 8.9890e-05 - PSNRLoss: 40.6595\n",
      "Epoch 64/200\n",
      " - 5s - loss: 8.9869e-05 - PSNRLoss: 40.6643\n",
      "Epoch 65/200\n",
      " - 5s - loss: 9.0341e-05 - PSNRLoss: 40.6487\n",
      "Epoch 66/200\n",
      " - 5s - loss: 8.9586e-05 - PSNRLoss: 40.7283\n",
      "Epoch 67/200\n",
      " - 5s - loss: 8.9536e-05 - PSNRLoss: 40.7013\n",
      "Wall time: 5min 43s\n"
     ]
    }
   ],
   "source": [
    "%%time\n",
    "\n",
    "early_stopping = EarlyStopping(monitor='loss', patience=5)\n",
    "hist =  model.fit(train_a, train_b,\n",
    "                    batch_size=32,\n",
    "                    epochs=200,\n",
    "                    shuffle=True,\n",
    "                    callbacks=[early_stopping],\n",
    "                    verbose=2)"
   ]
  },
  {
   "cell_type": "code",
   "execution_count": 10,
   "metadata": {},
   "outputs": [
    {
     "data": {
      "image/png": "[encoded data removed]",
      "text/plain": [
       "<Figure size 1152x432 with 2 Axes>"
      ]
     },
     "metadata": {
      "needs_background": "light"
     },
     "output_type": "display_data"
    },
    {
     "name": "stdout",
     "output_type": "stream",
     "text": [
      "maximum PSNRLoss: 40.7283\n",
      "minimum loss: 0.000089\n"
     ]
    }
   ],
   "source": [
    "import helper\n",
    "helper.plot_model(hist,size=(16,6))\n",
    "\n",
    "x = max(hist.history['PSNRLoss'])\n",
    "print(f\"maximum PSNRLoss: {x:.4f}\")\n",
    "x = min(hist.history['loss'])\n",
    "print(f\"minimum loss: {x:f}\")"
   ]
  },
  {
   "cell_type": "markdown",
   "metadata": {},
   "source": [
    "## Testlauf\n",
    "(ist natürlich verfälscht da ich hier ein bild aus dem trainingsdatensatz verwende)"
   ]
  },
  {
   "cell_type": "code",
   "execution_count": 14,
   "metadata": {},
   "outputs": [
    {
     "data": {
      "image/png": "[encoded data removed]",
      "text/plain": [
       "<Figure size 1152x3456 with 3 Axes>"
      ]
     },
     "metadata": {
      "needs_background": "light"
     },
     "output_type": "display_data"
    }
   ],
   "source": [
    "i = 42\n",
    "\n",
    "plt.figure(figsize=(16,16*3))\n",
    "\n",
    "#original bild anzeigen\n",
    "plt.subplot(1,3,1)\n",
    "plt.imshow(train_b[i],interpolation=\"nearest\")\n",
    "plt.text(16,-2,\"Original\",fontsize=20,horizontalalignment='center')\n",
    "\n",
    "#demosicing durch den autoencoder\n",
    "plt.subplot(1,3,2)\n",
    "decoded = model.predict(train_a[i:i+1])\n",
    "decoded = np.clip(decoded,0,1)\n",
    "plt.imshow(decoded[0])\n",
    "plt.text(16,-2,\"ML-Demosaic\",fontsize=20,horizontalalignment='center')\n",
    "\n",
    "#opencv demosaicing algorithmus zum vergleich\n",
    "plt.subplot(1,3,3)\n",
    "import cv2\n",
    "(h,w,_) = train_a[i].shape\n",
    "# rgb bayer bild in graustufen umwandeln\n",
    "a = np.zeros((h,w,1))\n",
    "for x in range(h):\n",
    "    for y in range(w):\n",
    "        a[x,y] = sum(train_a[i][x,y]) # summe der 3 kanäle nehmen da 2 kanäle immer 0 sind\n",
    "a = (a * 255).astype(\"uint8\")\n",
    "b = cv2.cvtColor(a, cv2.COLOR_BAYER_BG2BGR)\n",
    "plt.imshow(b,interpolation=\"nearest\")\n",
    "plt.text(16,-2,\"OpenCV Demosaicing\",fontsize=20,horizontalalignment='center')\n",
    "\n",
    "plt.show()"
   ]
  }
 ],
 "metadata": {
  "kernelspec": {
   "display_name": "Python 3",
   "language": "python",
   "name": "python3"
  },
  "language_info": {
   "codemirror_mode": {
    "name": "ipython",
    "version": 3
   },
   "file_extension": ".py",
   "mimetype": "text/x-python",
   "name": "python",
   "nbconvert_exporter": "python",
   "pygments_lexer": "ipython3",
   "version": "3.7.4"
  }
 },
 "nbformat": 4,
 "nbformat_minor": 4
}
