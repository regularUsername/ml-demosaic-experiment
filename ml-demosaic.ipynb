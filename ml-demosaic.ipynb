{
 "cells": [
  {
   "cell_type": "markdown",
   "metadata": {},
   "source": [
    "## Trainingsdaten vorbereiten\n",
    "Die Bilder werden zunächst auf 50% runterskaliert um mögliche Mängel des Demosaic Verfahrens der Kamera zu verstecken. Dann wird das Bild nachträglich in eine Form gebracht die einem Bayer Sensor entspricht vor dem Demosaic Verfahren."
   ]
  },
  {
   "cell_type": "code",
   "execution_count": 3,
   "metadata": {},
   "outputs": [],
   "source": [
    "from pathlib import Path\n",
    "from PIL import Image\n",
    "import numpy as np\n",
    "from itertools import product\n",
    "\n",
    "tile_size=32\n",
    "\n",
    "train_a=[]\n",
    "train_b=[]\n",
    "\n",
    "for p in Path(\"./training_images\").iterdir():\n",
    "    if p.is_file():\n",
    "        # bilder laden und in numpy array umwandeln\n",
    "        im = Image.open(p).convert('RGB')\n",
    "        # bild runterskalieren um effekte vom ursprünglichen demosaic verfahren zu minimieren\n",
    "        im = im.resize((im.width//2,im.height//2),Image.LANCZOS)\n",
    "        \n",
    "        im_a = np.asarray(im,'float32')\n",
    "        im_a/=255\n",
    "        im_b= np.asarray(im,'float32')\n",
    "        im_b/=255\n",
    "        \n",
    "        # Bayer Pattern erzeugen\n",
    "        # TODO kann man sicher noch effizienter/eleganter gestalten\n",
    "        for x in range(im_a.shape[0]):\n",
    "            for y in range(im_a.shape[1]):\n",
    "                if x%2==0: #in geraden zeilen bgbgbg...\n",
    "                    if y%2==0:\n",
    "                        im_a[x,y,0] = 0\n",
    "                        im_a[x,y,1] = 0\n",
    "                    else:\n",
    "                        im_a[x,y,0] = 0\n",
    "                        im_a[x,y,2] = 0\n",
    "                else: # in ungeraden zeilen grgrgr...\n",
    "                    if y%2==0:\n",
    "                        im_a[x,y,0] = 0\n",
    "                        im_a[x,y,2] = 0\n",
    "                    else:\n",
    "                        im_a[x,y,1] = 0\n",
    "                        im_a[x,y,2] = 0\n",
    "        \n",
    "        #Image.fromarray((im_a * 255).astype(\"uint8\")).show()\n",
    "        \n",
    "        #bild aufteilen \n",
    "        (h,w,_) = im_a.shape\n",
    "        (h,w) = (h//tile_size,w//tile_size)\n",
    "        \n",
    "        for x,y in product(range(w),range(h)):\n",
    "            tile_a = im_a[y*tile_size:(y+1)*tile_size, x*tile_size:(x+1)*tile_size,].copy()\n",
    "            train_a.append(tile_a)\n",
    "            tile_b = im_b[y*tile_size:(y+1)*tile_size, x*tile_size:(x+1)*tile_size,].copy()\n",
    "            train_b.append(tile_b)\n",
    "            \n",
    "        train_a = np.array(train_a)\n",
    "        train_b = np.array(train_b)\n",
    "        \n",
    "        "
   ]
  },
  {
   "cell_type": "markdown",
   "metadata": {},
   "source": [
    "### Mosaic zur Kontrolle anzeigen"
   ]
  },
  {
   "cell_type": "code",
   "execution_count": 4,
   "metadata": {},
   "outputs": [
    {
     "data": {
      "image/png": "[encoded data removed]",
      "text/plain": [
       "<Figure size 1152x2304 with 2 Axes>"
      ]
     },
     "metadata": {
      "needs_background": "light"
     },
     "output_type": "display_data"
    }
   ],
   "source": [
    "import matplotlib.pyplot as plt\n",
    "\n",
    "idx = 13\n",
    "\n",
    "plt.figure(figsize=(16,16*2))\n",
    "plt.subplot(1,2,1)\n",
    "plt.imshow(train_a[idx],interpolation=\"nearest\")\n",
    "plt.text(16,-2,\"Bayer Pattern\",fontsize=20,horizontalalignment='center')\n",
    "plt.subplot(1,2,2)\n",
    "plt.imshow(train_b[idx],interpolation=\"nearest\")\n",
    "plt.text(16,-2,\"RGB Image\",fontsize=20,horizontalalignment='center')\n",
    "\n",
    "plt.show()"
   ]
  },
  {
   "cell_type": "markdown",
   "metadata": {},
   "source": [
    "## Modell erstellen"
   ]
  },
  {
   "cell_type": "code",
   "execution_count": 4,
   "metadata": {},
   "outputs": [
    {
     "name": "stderr",
     "output_type": "stream",
     "text": [
      "Using TensorFlow backend.\n"
     ]
    }
   ],
   "source": [
    "import keras\n",
    "from keras.layers import Conv2D,Conv2DTranspose\n",
    "from keras.layers import Input,Add\n",
    "from keras.models import Sequential\n",
    "from keras.callbacks import EarlyStopping,TensorBoard"
   ]
  },
  {
   "cell_type": "markdown",
   "metadata": {},
   "source": [
    "### Tensorflow soll sich nur den Speicher holen den es braucht anstatt sich alles unter den Nagel zu reißen\n",
    "([Code aus Tensorflow Guide](https://www.tensorflow.org/guide/gpu#limiting_gpu_memory_growth))"
   ]
  },
  {
   "cell_type": "code",
   "execution_count": 5,
   "metadata": {
    "scrolled": true
   },
   "outputs": [
    {
     "name": "stdout",
     "output_type": "stream",
     "text": [
      "1 Physical GPUs, 1 Logical GPUs\n"
     ]
    }
   ],
   "source": [
    "from keras import backend as K\n",
    "\n",
    "if K.backend() == 'tensorflow':\n",
    "    import tensorflow as tf\n",
    "    gpus = tf.config.experimental.list_physical_devices('GPU')\n",
    "    if gpus:\n",
    "      try:\n",
    "        # Currently, memory growth needs to be the same across GPUs\n",
    "        for gpu in gpus:\n",
    "          tf.config.experimental.set_memory_growth(gpu, True)\n",
    "        logical_gpus = tf.config.experimental.list_logical_devices('GPU')\n",
    "        print(len(gpus), \"Physical GPUs,\", len(logical_gpus), \"Logical GPUs\")\n",
    "      except RuntimeError as e:\n",
    "        # Memory growth must be set before GPUs have been initialized\n",
    "        print(e)"
   ]
  },
  {
   "cell_type": "markdown",
   "metadata": {},
   "source": [
    "### Hatte PSNRLoss in einem anderem Projekt benutzt und war besser als die builtin metrics"
   ]
  },
  {
   "cell_type": "code",
   "execution_count": 6,
   "metadata": {},
   "outputs": [],
   "source": [
    "def PSNRLoss(y_true, y_pred):\n",
    "    \"\"\"\n",
    "    PSNR is Peek Signal to Noise Ratio, which is similar to mean squared error.\n",
    "    It can be calculated as\n",
    "    PSNR = 20 * log10(MAXp) - 10 * log10(MSE)\n",
    "    When providing an unscaled input, MAXp = 255. Therefore 20 * log10(255)== 48.1308036087.\n",
    "    However, since we are scaling our input, MAXp = 1. Therefore 20 * log10(1) = 0.\n",
    "    Thus we remove that component completely and only compute the remaining MSE component.\n",
    "    \"\"\"\n",
    "    return -10. * K.log(K.mean(K.square(y_pred - y_true))) / K.log(10.)"
   ]
  },
  {
   "cell_type": "code",
   "execution_count": 20,
   "metadata": {},
   "outputs": [
    {
     "name": "stdout",
     "output_type": "stream",
     "text": [
      "Model: \"sequential_5\"\n",
      "_________________________________________________________________\n",
      "Layer (type)                 Output Shape              Param #   \n",
      "=================================================================\n",
      "conv2d_6 (Conv2D)            (None, 16, 16, 64)        1792      \n",
      "_________________________________________________________________\n",
      "conv2d_transpose_7 (Conv2DTr (None, 32, 32, 64)        36928     \n",
      "_________________________________________________________________\n",
      "conv2d_transpose_8 (Conv2DTr (None, 32, 32, 3)         4803      \n",
      "=================================================================\n",
      "Total params: 43,523\n",
      "Trainable params: 43,523\n",
      "Non-trainable params: 0\n",
      "_________________________________________________________________\n"
     ]
    }
   ],
   "source": [
    "model = Sequential()\n",
    "model.add(Conv2D(64,(3,3), activation='relu', strides=(2, 2),padding='same',input_shape=(tile_size,tile_size,3)))\n",
    "model.add(Conv2DTranspose(64,(3,3),activation='relu', strides=(2, 2), padding='same'))\n",
    "model.add(Conv2DTranspose(3,(5,5),activation='linear',padding='same'))\n",
    "\n",
    "model.compile(loss=keras.losses.mean_squared_error,\n",
    "             optimizer=keras.optimizers.Adam(),\n",
    "             metrics=[PSNRLoss])\n",
    "\n",
    "model.summary()\n"
   ]
  },
  {
   "cell_type": "code",
   "execution_count": 21,
   "metadata": {},
   "outputs": [
    {
     "name": "stdout",
     "output_type": "stream",
     "text": [
      "Epoch 1/200\n",
      " - 0s - loss: 0.1299 - PSNRLoss: 10.0040\n",
      "Epoch 2/200\n",
      " - 0s - loss: 0.0408 - PSNRLoss: 13.9521\n",
      "Epoch 3/200\n",
      " - 0s - loss: 0.0302 - PSNRLoss: 15.2247\n",
      "Epoch 4/200\n",
      " - 0s - loss: 0.0199 - PSNRLoss: 17.0547\n",
      "Epoch 5/200\n",
      " - 0s - loss: 0.0131 - PSNRLoss: 18.8770\n",
      "Epoch 6/200\n",
      " - 0s - loss: 0.0084 - PSNRLoss: 20.8143\n",
      "Epoch 7/200\n",
      " - 0s - loss: 0.0063 - PSNRLoss: 21.9920\n",
      "Epoch 8/200\n",
      " - 0s - loss: 0.0055 - PSNRLoss: 22.6364\n",
      "Epoch 9/200\n",
      " - 0s - loss: 0.0048 - PSNRLoss: 23.2212\n",
      "Epoch 10/200\n",
      " - 0s - loss: 0.0042 - PSNRLoss: 23.7801\n",
      "Epoch 11/200\n",
      " - 0s - loss: 0.0036 - PSNRLoss: 24.4245\n",
      "Epoch 12/200\n",
      " - 0s - loss: 0.0031 - PSNRLoss: 25.0675\n",
      "Epoch 13/200\n",
      " - 0s - loss: 0.0027 - PSNRLoss: 25.6513\n",
      "Epoch 14/200\n",
      " - 0s - loss: 0.0025 - PSNRLoss: 26.0999\n",
      "Epoch 15/200\n",
      " - 0s - loss: 0.0023 - PSNRLoss: 26.4889\n",
      "Epoch 16/200\n",
      " - 0s - loss: 0.0021 - PSNRLoss: 26.8029\n",
      "Epoch 17/200\n",
      " - 0s - loss: 0.0020 - PSNRLoss: 27.0711\n",
      "Epoch 18/200\n",
      " - 0s - loss: 0.0019 - PSNRLoss: 27.3022\n",
      "Epoch 19/200\n",
      " - 0s - loss: 0.0018 - PSNRLoss: 27.4886\n",
      "Epoch 20/200\n",
      " - 0s - loss: 0.0017 - PSNRLoss: 27.7106\n",
      "Epoch 21/200\n",
      " - 0s - loss: 0.0016 - PSNRLoss: 27.9129\n",
      "Epoch 22/200\n",
      " - 0s - loss: 0.0016 - PSNRLoss: 28.0923\n",
      "Epoch 23/200\n",
      " - 0s - loss: 0.0015 - PSNRLoss: 28.2170\n",
      "Epoch 24/200\n",
      " - 0s - loss: 0.0015 - PSNRLoss: 28.3253\n",
      "Epoch 25/200\n",
      " - 0s - loss: 0.0015 - PSNRLoss: 28.4051\n",
      "Epoch 26/200\n",
      " - 0s - loss: 0.0014 - PSNRLoss: 28.5298\n",
      "Epoch 27/200\n",
      " - 0s - loss: 0.0014 - PSNRLoss: 28.6184\n",
      "Epoch 28/200\n",
      " - 0s - loss: 0.0013 - PSNRLoss: 28.7580\n",
      "Epoch 29/200\n",
      " - 0s - loss: 0.0013 - PSNRLoss: 28.8287\n",
      "Epoch 30/200\n",
      " - 0s - loss: 0.0013 - PSNRLoss: 28.9308\n",
      "Epoch 31/200\n",
      " - 0s - loss: 0.0013 - PSNRLoss: 28.9856\n",
      "Epoch 32/200\n",
      " - 0s - loss: 0.0013 - PSNRLoss: 28.9958\n",
      "Epoch 33/200\n",
      " - 0s - loss: 0.0013 - PSNRLoss: 28.9888\n",
      "Epoch 34/200\n",
      " - 0s - loss: 0.0012 - PSNRLoss: 29.1397\n",
      "Epoch 35/200\n",
      " - 0s - loss: 0.0012 - PSNRLoss: 29.2424\n",
      "Epoch 36/200\n",
      " - 0s - loss: 0.0012 - PSNRLoss: 29.2207\n",
      "Epoch 37/200\n",
      " - 0s - loss: 0.0012 - PSNRLoss: 29.3255\n",
      "Epoch 38/200\n",
      " - 0s - loss: 0.0012 - PSNRLoss: 29.3302\n",
      "Epoch 39/200\n",
      " - 0s - loss: 0.0012 - PSNRLoss: 29.3998\n",
      "Epoch 40/200\n",
      " - 0s - loss: 0.0012 - PSNRLoss: 29.3974\n",
      "Epoch 41/200\n",
      " - 0s - loss: 0.0011 - PSNRLoss: 29.4771\n",
      "Epoch 42/200\n",
      " - 0s - loss: 0.0011 - PSNRLoss: 29.4297\n",
      "Epoch 43/200\n",
      " - 0s - loss: 0.0011 - PSNRLoss: 29.5129\n",
      "Epoch 44/200\n",
      " - 0s - loss: 0.0011 - PSNRLoss: 29.5361\n",
      "Epoch 45/200\n",
      " - 0s - loss: 0.0011 - PSNRLoss: 29.5900\n",
      "Epoch 46/200\n",
      " - 0s - loss: 0.0011 - PSNRLoss: 29.5035\n",
      "Epoch 47/200\n",
      " - 0s - loss: 0.0011 - PSNRLoss: 29.5564\n",
      "Epoch 48/200\n",
      " - 0s - loss: 0.0011 - PSNRLoss: 29.6092\n",
      "Epoch 49/200\n",
      " - 0s - loss: 0.0011 - PSNRLoss: 29.6742\n",
      "Epoch 50/200\n",
      " - 0s - loss: 0.0011 - PSNRLoss: 29.7160\n",
      "Epoch 51/200\n",
      " - 0s - loss: 0.0011 - PSNRLoss: 29.7531\n",
      "Epoch 52/200\n",
      " - 0s - loss: 0.0011 - PSNRLoss: 29.7708\n",
      "Epoch 53/200\n",
      " - 0s - loss: 0.0011 - PSNRLoss: 29.7769\n",
      "Epoch 54/200\n",
      " - 0s - loss: 0.0011 - PSNRLoss: 29.7698\n",
      "Epoch 55/200\n",
      " - 0s - loss: 0.0011 - PSNRLoss: 29.7586\n",
      "Epoch 56/200\n",
      " - 0s - loss: 0.0010 - PSNRLoss: 29.8714\n",
      "Epoch 57/200\n",
      " - 0s - loss: 0.0010 - PSNRLoss: 29.9027\n",
      "Epoch 58/200\n",
      " - 0s - loss: 0.0011 - PSNRLoss: 29.6437\n",
      "Epoch 59/200\n",
      " - 0s - loss: 0.0011 - PSNRLoss: 29.7435\n",
      "Epoch 60/200\n",
      " - 0s - loss: 0.0010 - PSNRLoss: 29.8859\n",
      "Epoch 61/200\n",
      " - 0s - loss: 0.0010 - PSNRLoss: 29.9696\n",
      "Epoch 62/200\n",
      " - 0s - loss: 0.0010 - PSNRLoss: 29.9557\n",
      "Epoch 63/200\n",
      " - 0s - loss: 0.0010 - PSNRLoss: 29.9782\n",
      "Epoch 64/200\n",
      " - 0s - loss: 0.0010 - PSNRLoss: 29.9804\n",
      "Epoch 65/200\n",
      " - 0s - loss: 0.0010 - PSNRLoss: 29.9947\n",
      "Epoch 66/200\n",
      " - 0s - loss: 0.0010 - PSNRLoss: 29.9126\n",
      "Epoch 67/200\n",
      " - 0s - loss: 0.0010 - PSNRLoss: 29.8908\n",
      "Epoch 68/200\n",
      " - 0s - loss: 0.0010 - PSNRLoss: 29.9257\n",
      "Epoch 69/200\n",
      " - 0s - loss: 9.9755e-04 - PSNRLoss: 30.0167\n",
      "Epoch 70/200\n",
      " - 0s - loss: 9.8991e-04 - PSNRLoss: 30.0611\n",
      "Epoch 71/200\n",
      " - 0s - loss: 9.8988e-04 - PSNRLoss: 30.0616\n",
      "Epoch 72/200\n",
      " - 0s - loss: 0.0010 - PSNRLoss: 29.9883\n",
      "Epoch 73/200\n",
      " - 0s - loss: 9.8639e-04 - PSNRLoss: 30.0830\n",
      "Epoch 74/200\n",
      " - 0s - loss: 9.8158e-04 - PSNRLoss: 30.0972\n",
      "Epoch 75/200\n",
      " - 0s - loss: 9.8607e-04 - PSNRLoss: 30.0779\n",
      "Epoch 76/200\n",
      " - 0s - loss: 0.0010 - PSNRLoss: 29.9791\n",
      "Epoch 77/200\n",
      " - 0s - loss: 9.9162e-04 - PSNRLoss: 30.0571\n",
      "Epoch 78/200\n",
      " - 0s - loss: 9.8021e-04 - PSNRLoss: 30.1011\n",
      "Epoch 79/200\n",
      " - 0s - loss: 9.7925e-04 - PSNRLoss: 30.1029\n",
      "Epoch 80/200\n",
      " - 0s - loss: 9.7445e-04 - PSNRLoss: 30.1516\n",
      "Epoch 81/200\n",
      " - 0s - loss: 9.7792e-04 - PSNRLoss: 30.1278\n",
      "Epoch 82/200\n",
      " - 0s - loss: 9.7171e-04 - PSNRLoss: 30.1613\n",
      "Epoch 83/200\n",
      " - 0s - loss: 9.8594e-04 - PSNRLoss: 30.0952\n",
      "Epoch 84/200\n",
      " - 0s - loss: 0.0013 - PSNRLoss: 29.0412\n",
      "Epoch 85/200\n",
      " - 0s - loss: 9.9458e-04 - PSNRLoss: 30.0429\n",
      "Epoch 86/200\n",
      " - 0s - loss: 9.5714e-04 - PSNRLoss: 30.1995\n",
      "Epoch 87/200\n",
      " - 0s - loss: 9.5111e-04 - PSNRLoss: 30.2290\n",
      "Epoch 88/200\n",
      " - 0s - loss: 9.4852e-04 - PSNRLoss: 30.2454\n",
      "Epoch 89/200\n",
      " - 0s - loss: 9.4872e-04 - PSNRLoss: 30.2536\n",
      "Epoch 90/200\n",
      " - 0s - loss: 9.6261e-04 - PSNRLoss: 30.1854\n",
      "Epoch 91/200\n",
      " - 0s - loss: 9.4986e-04 - PSNRLoss: 30.2453\n",
      "Epoch 92/200\n",
      " - 0s - loss: 9.4555e-04 - PSNRLoss: 30.2575\n",
      "Epoch 93/200\n",
      " - 0s - loss: 9.4338e-04 - PSNRLoss: 30.2653\n",
      "Epoch 94/200\n",
      " - 0s - loss: 9.4596e-04 - PSNRLoss: 30.2561\n",
      "Epoch 95/200\n",
      " - 0s - loss: 9.5224e-04 - PSNRLoss: 30.2290\n",
      "Epoch 96/200\n",
      " - 0s - loss: 9.5051e-04 - PSNRLoss: 30.2387\n",
      "Epoch 97/200\n",
      " - 0s - loss: 9.3507e-04 - PSNRLoss: 30.3084\n",
      "Epoch 98/200\n",
      " - 0s - loss: 9.4101e-04 - PSNRLoss: 30.2786\n",
      "Epoch 99/200\n",
      " - 0s - loss: 9.3788e-04 - PSNRLoss: 30.3021\n",
      "Epoch 100/200\n",
      " - 0s - loss: 9.4983e-04 - PSNRLoss: 30.2384\n",
      "Epoch 101/200\n",
      " - 0s - loss: 9.4851e-04 - PSNRLoss: 30.2424\n",
      "Epoch 102/200\n",
      " - 0s - loss: 9.3126e-04 - PSNRLoss: 30.3322\n",
      "Epoch 103/200\n",
      " - 0s - loss: 9.4904e-04 - PSNRLoss: 30.2379\n",
      "Epoch 104/200\n",
      " - 0s - loss: 9.6206e-04 - PSNRLoss: 30.1770\n",
      "Epoch 105/200\n",
      " - 0s - loss: 9.3459e-04 - PSNRLoss: 30.3058\n",
      "Epoch 106/200\n",
      " - 0s - loss: 9.5431e-04 - PSNRLoss: 30.2304\n",
      "Epoch 107/200\n",
      " - 0s - loss: 9.3290e-04 - PSNRLoss: 30.3324\n",
      "Wall time: 9.34 s\n"
     ]
    }
   ],
   "source": [
    "%%time\n",
    "\n",
    "early_stopping = EarlyStopping(monitor='loss', patience=5)\n",
    "hist =  model.fit(train_a, train_b,\n",
    "                    batch_size=32,\n",
    "                    epochs=200,\n",
    "                    shuffle=True,\n",
    "                    callbacks=[early_stopping],\n",
    "                    verbose=2)"
   ]
  },
  {
   "cell_type": "code",
   "execution_count": 22,
   "metadata": {},
   "outputs": [
    {
     "data": {
      "image/png": "[encoded data removed]",
      "text/plain": [
       "<Figure size 1152x432 with 2 Axes>"
      ]
     },
     "metadata": {
      "needs_background": "light"
     },
     "output_type": "display_data"
    },
    {
     "name": "stdout",
     "output_type": "stream",
     "text": [
      "maximum PSNRLoss: 30.3324\n",
      "minimum loss: 0.000931\n"
     ]
    }
   ],
   "source": [
    "import helper\n",
    "helper.plot_model(hist,size=(16,6))\n",
    "\n",
    "x = max(hist.history['PSNRLoss'])\n",
    "print(f\"maximum PSNRLoss: {x:.4f}\")\n",
    "x = min(hist.history['loss'])\n",
    "print(f\"minimum loss: {x:f}\")"
   ]
  },
  {
   "cell_type": "markdown",
   "metadata": {},
   "source": [
    "## Testlauf"
   ]
  },
  {
   "cell_type": "code",
   "execution_count": 23,
   "metadata": {},
   "outputs": [
    {
     "data": {
      "image/png": "[encoded data removed]",
      "text/plain": [
       "<Figure size 1152x3456 with 3 Axes>"
      ]
     },
     "metadata": {
      "needs_background": "light"
     },
     "output_type": "display_data"
    }
   ],
   "source": [
    "plt.figure(figsize=(16,16*3))\n",
    "\n",
    "i = 15\n",
    "\n",
    "plt.subplot(1,3,1)\n",
    "plt.imshow(train_a[i],interpolation=\"nearest\")\n",
    "plt.text(16,-2,\"Bayer Pattern\",fontsize=20,horizontalalignment='center')\n",
    "\n",
    "plt.subplot(1,3,2)\n",
    "plt.imshow(train_b[i],interpolation=\"nearest\")\n",
    "plt.text(16,-2,\"Original\",fontsize=20,horizontalalignment='center')\n",
    "\n",
    "\n",
    "plt.subplot(1,3,3)\n",
    "decoded = model.predict(train_a[i:i+1])\n",
    "decoded = np.clip(decoded,0,1)\n",
    "plt.imshow(decoded[0])\n",
    "plt.text(16,-2,\"Demosaic\",fontsize=20,horizontalalignment='center')\n",
    "\n",
    "plt.show()"
   ]
  },
  {
   "cell_type": "code",
   "execution_count": null,
   "metadata": {},
   "outputs": [],
   "source": []
  }
 ],
 "metadata": {
  "kernelspec": {
   "display_name": "Python 3",
   "language": "python",
   "name": "python3"
  },
  "language_info": {
   "codemirror_mode": {
    "name": "ipython",
    "version": 3
   },
   "file_extension": ".py",
   "mimetype": "text/x-python",
   "name": "python",
   "nbconvert_exporter": "python",
   "pygments_lexer": "ipython3",
   "version": "3.7.4"
  }
 },
 "nbformat": 4,
 "nbformat_minor": 4
}
